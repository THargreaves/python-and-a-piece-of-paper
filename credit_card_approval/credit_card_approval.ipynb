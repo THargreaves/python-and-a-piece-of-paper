{
 "cells": [
  {
   "cell_type": "markdown",
   "metadata": {},
   "source": [
    "## Setup"
   ]
  },
  {
   "cell_type": "code",
   "execution_count": 1,
   "metadata": {},
   "outputs": [
    {
     "name": "stderr",
     "output_type": "stream",
     "text": [
      "Using TensorFlow backend.\n"
     ]
    }
   ],
   "source": [
    "import pandas as pd\n",
    "import matplotlib.pyplot as plt\n",
    "import numpy as np\n",
    "\n",
    "from sklearn.preprocessing import OneHotEncoder, MinMaxScaler\n",
    "from sklearn.model_selection import KFold, cross_val_score\n",
    "\n",
    "from keras.layers import Dense, Dropout\n",
    "from keras.models import Sequential\n",
    "from keras.wrappers.scikit_learn import KerasClassifier"
   ]
  },
  {
   "cell_type": "markdown",
   "metadata": {},
   "source": [
    "## Import Data"
   ]
  },
  {
   "cell_type": "code",
   "execution_count": 2,
   "metadata": {},
   "outputs": [],
   "source": [
    "crx = pd.read_csv('resources/crx.data', header=None)\n",
    "\n",
    "# add probable column names\n",
    "crx.columns = [\n",
    "    'sex', 'age', 'debt', 'married', 'bank_customer', 'education', 'ethnicity', \n",
    "    'year_employed', 'prior_default', 'employed', 'credit_score',\n",
    "    'drivers_license', 'citizen', 'zip_code', 'income', 'approved',\n",
    "]\n",
    "\n",
    "# remove unhelpful features\n",
    "crx = crx.drop(['zip_code'], axis=1)\n",
    "\n",
    "# extract label\n",
    "lab = (crx['approved'] == '+').to_numpy()\n",
    "crx = crx.drop(['approved'], axis=1)"
   ]
  },
  {
   "cell_type": "markdown",
   "metadata": {},
   "source": [
    "## Cleaning"
   ]
  },
  {
   "cell_type": "markdown",
   "metadata": {},
   "source": [
    "### Impute Missing Values"
   ]
  },
  {
   "cell_type": "code",
   "execution_count": 9,
   "metadata": {},
   "outputs": [],
   "source": [
    "# missing values saved as '?'\n",
    "crx = crx.replace(['?'],np.NaN)\n",
    "# fix column datatypes\n",
    "crx['age'] = crx['age'].astype('float')\n",
    "# keep track of which columns are missing data\n",
    "for name, values in crx.iteritems():\n",
    "    is_na = values.isna()\n",
    "    if any(is_na):\n",
    "        crx[f'{name}_is_na'] = is_na\n",
    "# replace missing numeric values with column means\n",
    "crx.fillna(crx.mean(), inplace=True)\n",
    "# replace missing string values with column modes\n",
    "for name, values in crx.iteritems():\n",
    "    if values.dtype == 'object':\n",
    "        crx[name] = values.fillna(values.value_counts().index[0])"
   ]
  },
  {
   "cell_type": "markdown",
   "metadata": {},
   "source": [
    "### Encode Non-Numeric Features"
   ]
  },
  {
   "cell_type": "code",
   "execution_count": 11,
   "metadata": {},
   "outputs": [],
   "source": [
    "# split numeric and non-numeric features\n",
    "numeric = crx.select_dtypes(exclude='object')\n",
    "string = crx.select_dtypes(include='object')\n",
    "enc = OneHotEncoder()\n",
    "string_enc = enc.fit_transform(string)\n",
    "crx_enc = np.hstack((numeric.to_numpy(), string_enc.todense()))"
   ]
  },
  {
   "cell_type": "markdown",
   "metadata": {},
   "source": [
    "### Normalise Inputs"
   ]
  },
  {
   "cell_type": "code",
   "execution_count": 13,
   "metadata": {},
   "outputs": [],
   "source": [
    "scal = MinMaxScaler()\n",
    "crx_enc = scal.fit_transform(crx_enc)"
   ]
  },
  {
   "cell_type": "markdown",
   "metadata": {},
   "source": [
    "## Build Model"
   ]
  },
  {
   "cell_type": "code",
   "execution_count": 26,
   "metadata": {},
   "outputs": [],
   "source": [
    "def build_model():\n",
    "    model = Sequential([\n",
    "        Dense(16, activation='relu'),\n",
    "        Dense(8, activation='relu'),\n",
    "        Dense(1, activation='sigmoid'),\n",
    "    ])\n",
    "    model.compile(optimizer='adam', loss='binary_crossentropy', \n",
    "                  metrics=['accuracy'])\n",
    "    return model"
   ]
  },
  {
   "cell_type": "markdown",
   "metadata": {},
   "source": [
    "## Train Model"
   ]
  },
  {
   "cell_type": "markdown",
   "metadata": {},
   "source": [
    "### Fit Model"
   ]
  },
  {
   "cell_type": "code",
   "execution_count": 27,
   "metadata": {},
   "outputs": [],
   "source": [
    "nn = KerasClassifier(build_fn=build_model, epochs=10, batch_size=32, verbose=0)\n",
    "kfold = KFold(n_splits=30)"
   ]
  },
  {
   "cell_type": "markdown",
   "metadata": {},
   "source": [
    "## Evaluate Performance"
   ]
  },
  {
   "cell_type": "code",
   "execution_count": 33,
   "metadata": {
    "scrolled": true
   },
   "outputs": [
    {
     "name": "stdout",
     "output_type": "stream",
     "text": [
      "Model accuracy is 84.78%\n"
     ]
    }
   ],
   "source": [
    "results = cross_val_score(nn, crx_enc, lab, cv=kfold)\n",
    "acc = results.mean()\n",
    "print(f\"Model accuracy is {round(acc * 100, 2)}%\")"
   ]
  }
 ],
 "metadata": {
  "kernelspec": {
   "display_name": "Python 3",
   "language": "python",
   "name": "python3"
  },
  "language_info": {
   "codemirror_mode": {
    "name": "ipython",
    "version": 3
   },
   "file_extension": ".py",
   "mimetype": "text/x-python",
   "name": "python",
   "nbconvert_exporter": "python",
   "pygments_lexer": "ipython3",
   "version": "3.6.8"
  }
 },
 "nbformat": 4,
 "nbformat_minor": 2
}
